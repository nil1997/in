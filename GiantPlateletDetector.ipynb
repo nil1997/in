{
  "nbformat": 4,
  "nbformat_minor": 0,
  "metadata": {
    "colab": {
      "name": "GiantPlateletDetector.ipynb",
      "provenance": [],
      "collapsed_sections": [],
      "authorship_tag": "ABX9TyMpXqjyQ1fS1k9dlsoZ9z0r",
      "include_colab_link": true
    },
    "kernelspec": {
      "name": "python3",
      "display_name": "Python 3"
    },
    "language_info": {
      "name": "python"
    },
    "accelerator": "GPU"
  },
  "cells": [
    {
      "cell_type": "markdown",
      "metadata": {
        "id": "view-in-github",
        "colab_type": "text"
      },
      "source": [
        "<a href=\"https://colab.research.google.com/github/nil1997/in/blob/master/GiantPlateletDetector.ipynb\" target=\"_parent\"><img src=\"https://colab.research.google.com/assets/colab-badge.svg\" alt=\"Open In Colab\"/></a>"
      ]
    },
    {
      "cell_type": "markdown",
      "source": [
        "#Import all the necessary Libraries"
      ],
      "metadata": {
        "id": "7RDlwja9lcLo"
      }
    },
    {
      "cell_type": "code",
      "execution_count": null,
      "metadata": {
        "id": "8ocdONP2lC_y"
      },
      "outputs": [],
      "source": [
        "import numpy as np\n",
        "from glob import glob\n",
        "import tensorflow as tf\n",
        "from google.colab import drive\n",
        "from tensorflow.keras.layers import Input,Flatten,Dense\n",
        "from tensorflow.keras.models import Model\n",
        "from tensorflow.keras.applications.vgg16 import VGG16"
      ]
    },
    {
      "cell_type": "code",
      "source": [
        "drive.mount('/content/drive')"
      ],
      "metadata": {
        "colab": {
          "base_uri": "https://localhost:8080/"
        },
        "id": "EufLsZtVlEaD",
        "outputId": "8ca3ac73-a94b-4163-fe42-dc1c457b1636"
      },
      "execution_count": null,
      "outputs": [
        {
          "output_type": "stream",
          "name": "stdout",
          "text": [
            "Mounted at /content/drive\n"
          ]
        }
      ]
    },
    {
      "cell_type": "markdown",
      "source": [
        "#Specify the path of the folders"
      ],
      "metadata": {
        "id": "n52tH2CVeRD9"
      }
    },
    {
      "cell_type": "code",
      "source": [
        "base_dir=r\"/content/drive/MyDrive/imageDataset\"\n",
        "folders=glob(r\"/content/drive/MyDrive/imageDataset/*\")\n",
        "test_label=np.loadtxt(\"/content/drive/MyDrive/test_label.txt\",dtype=int)"
      ],
      "metadata": {
        "id": "LXwzmLFjlZRD"
      },
      "execution_count": null,
      "outputs": []
    },
    {
      "cell_type": "markdown",
      "source": [
        "#Augmenting Dataset"
      ],
      "metadata": {
        "id": "jjjuk2wDeVYQ"
      }
    },
    {
      "cell_type": "code",
      "source": [
        "IMAGE_SIZE=224\n",
        "Batch_Size=64\n",
        "train_datagen=tf.keras.preprocessing.image.ImageDataGenerator(\n",
        "    rescale=1./255,\n",
        "    zoom_range=0.2,\n",
        "    validation_split=0.1\n",
        ")\n",
        "\n",
        "valid_datagen=tf.keras.preprocessing.image.ImageDataGenerator(\n",
        "    rescale=1./255,\n",
        "    validation_split=0.1)\n"
      ],
      "metadata": {
        "id": "gOKxpf_lletv"
      },
      "execution_count": null,
      "outputs": []
    },
    {
      "cell_type": "markdown",
      "source": [
        "#Dividing the data into train and validation"
      ],
      "metadata": {
        "id": "biLQuHY-eZA7"
      }
    },
    {
      "cell_type": "code",
      "source": [
        "train_generator=train_datagen.flow_from_directory(\n",
        "    directory=base_dir,\n",
        "    target_size=(IMAGE_SIZE,IMAGE_SIZE),\n",
        "    batch_size=Batch_Size,\n",
        "    subset='training'\n",
        "  \n",
        ")\n",
        "validation_generator=valid_datagen.flow_from_directory(\n",
        "    directory=base_dir,\n",
        "    target_size=(IMAGE_SIZE,IMAGE_SIZE),\n",
        "    batch_size=Batch_Size,\n",
        "    subset='validation'\n",
        ")"
      ],
      "metadata": {
        "colab": {
          "base_uri": "https://localhost:8080/"
        },
        "id": "FX2JxiTZlhXQ",
        "outputId": "260f2543-8b0c-48b7-8002-d7fcb99377e7"
      },
      "execution_count": null,
      "outputs": [
        {
          "output_type": "stream",
          "name": "stdout",
          "text": [
            "Found 3918 images belonging to 2 classes.\n",
            "Found 434 images belonging to 2 classes.\n"
          ]
        }
      ]
    },
    {
      "cell_type": "markdown",
      "source": [
        "#Using Transfer Learning"
      ],
      "metadata": {
        "id": "qfIvJgtcedGF"
      }
    },
    {
      "cell_type": "code",
      "source": [
        "Image_Size=[224,224]\n",
        "vgg=VGG16(input_shape=Image_Size+[3],weights='imagenet',include_top=False)\n",
        "vgg.output"
      ],
      "metadata": {
        "colab": {
          "base_uri": "https://localhost:8080/"
        },
        "id": "NDyP0SpDlnSl",
        "outputId": "e7f45084-8d6d-4e3a-8281-ca90470962a2"
      },
      "execution_count": null,
      "outputs": [
        {
          "output_type": "stream",
          "name": "stdout",
          "text": [
            "Downloading data from https://storage.googleapis.com/tensorflow/keras-applications/vgg16/vgg16_weights_tf_dim_ordering_tf_kernels_notop.h5\n",
            "58892288/58889256 [==============================] - 1s 0us/step\n",
            "58900480/58889256 [==============================] - 1s 0us/step\n"
          ]
        },
        {
          "output_type": "execute_result",
          "data": {
            "text/plain": [
              "<KerasTensor: shape=(None, 7, 7, 512) dtype=float32 (created by layer 'block5_pool')>"
            ]
          },
          "metadata": {},
          "execution_count": 7
        }
      ]
    },
    {
      "cell_type": "code",
      "source": [
        "for layer in vgg.layers:\n",
        "  layer.trainable=False"
      ],
      "metadata": {
        "id": "RsirWpvYlqRq"
      },
      "execution_count": null,
      "outputs": []
    },
    {
      "cell_type": "markdown",
      "source": [
        "#Summary of the model"
      ],
      "metadata": {
        "id": "Wq37EibBPBtM"
      }
    },
    {
      "cell_type": "code",
      "source": [
        "x=Flatten()(vgg.output)\n",
        "prediction=Dense(len(folders),activation='softmax')(x)\n",
        "model=Model(inputs=vgg.input,outputs=prediction)\n",
        "model.summary()"
      ],
      "metadata": {
        "colab": {
          "base_uri": "https://localhost:8080/"
        },
        "id": "zicn5ZAhmDty",
        "outputId": "b57dd153-45d4-47c4-99b4-7d65ad23b7b6"
      },
      "execution_count": null,
      "outputs": [
        {
          "output_type": "stream",
          "name": "stdout",
          "text": [
            "Model: \"model\"\n",
            "_________________________________________________________________\n",
            " Layer (type)                Output Shape              Param #   \n",
            "=================================================================\n",
            " input_1 (InputLayer)        [(None, 224, 224, 3)]     0         \n",
            "                                                                 \n",
            " block1_conv1 (Conv2D)       (None, 224, 224, 64)      1792      \n",
            "                                                                 \n",
            " block1_conv2 (Conv2D)       (None, 224, 224, 64)      36928     \n",
            "                                                                 \n",
            " block1_pool (MaxPooling2D)  (None, 112, 112, 64)      0         \n",
            "                                                                 \n",
            " block2_conv1 (Conv2D)       (None, 112, 112, 128)     73856     \n",
            "                                                                 \n",
            " block2_conv2 (Conv2D)       (None, 112, 112, 128)     147584    \n",
            "                                                                 \n",
            " block2_pool (MaxPooling2D)  (None, 56, 56, 128)       0         \n",
            "                                                                 \n",
            " block3_conv1 (Conv2D)       (None, 56, 56, 256)       295168    \n",
            "                                                                 \n",
            " block3_conv2 (Conv2D)       (None, 56, 56, 256)       590080    \n",
            "                                                                 \n",
            " block3_conv3 (Conv2D)       (None, 56, 56, 256)       590080    \n",
            "                                                                 \n",
            " block3_pool (MaxPooling2D)  (None, 28, 28, 256)       0         \n",
            "                                                                 \n",
            " block4_conv1 (Conv2D)       (None, 28, 28, 512)       1180160   \n",
            "                                                                 \n",
            " block4_conv2 (Conv2D)       (None, 28, 28, 512)       2359808   \n",
            "                                                                 \n",
            " block4_conv3 (Conv2D)       (None, 28, 28, 512)       2359808   \n",
            "                                                                 \n",
            " block4_pool (MaxPooling2D)  (None, 14, 14, 512)       0         \n",
            "                                                                 \n",
            " block5_conv1 (Conv2D)       (None, 14, 14, 512)       2359808   \n",
            "                                                                 \n",
            " block5_conv2 (Conv2D)       (None, 14, 14, 512)       2359808   \n",
            "                                                                 \n",
            " block5_conv3 (Conv2D)       (None, 14, 14, 512)       2359808   \n",
            "                                                                 \n",
            " block5_pool (MaxPooling2D)  (None, 7, 7, 512)         0         \n",
            "                                                                 \n",
            " flatten (Flatten)           (None, 25088)             0         \n",
            "                                                                 \n",
            " dense (Dense)               (None, 2)                 50178     \n",
            "                                                                 \n",
            "=================================================================\n",
            "Total params: 14,764,866\n",
            "Trainable params: 50,178\n",
            "Non-trainable params: 14,714,688\n",
            "_________________________________________________________________\n"
          ]
        }
      ]
    },
    {
      "cell_type": "code",
      "source": [
        "model.compile(loss='binary_crossentropy',optimizer='adam',metrics='accuracy')"
      ],
      "metadata": {
        "id": "fpFt9BQqmIQk"
      },
      "execution_count": null,
      "outputs": []
    },
    {
      "cell_type": "markdown",
      "source": [
        "#Training the model"
      ],
      "metadata": {
        "id": "4V3NP8kUPKhX"
      }
    },
    {
      "cell_type": "code",
      "source": [
        "epoch=5\n",
        "history=model.fit(train_generator,\n",
        "                  steps_per_epoch=len(train_generator),\n",
        "                  epochs=epoch,\n",
        "                  validation_data=validation_generator,\n",
        "                  validation_steps=len(validation_generator))"
      ],
      "metadata": {
        "colab": {
          "base_uri": "https://localhost:8080/"
        },
        "id": "nW17LrDOmLD6",
        "outputId": "4fa15192-cd11-4a48-bbbe-c2b901767c9a"
      },
      "execution_count": null,
      "outputs": [
        {
          "output_type": "stream",
          "name": "stdout",
          "text": [
            "Epoch 1/5\n",
            "62/62 [==============================] - 1321s 21s/step - loss: 0.0598 - accuracy: 0.9837 - val_loss: 0.0016 - val_accuracy: 1.0000\n",
            "Epoch 2/5\n",
            "62/62 [==============================] - 56s 902ms/step - loss: 0.0034 - accuracy: 1.0000 - val_loss: 9.0984e-04 - val_accuracy: 1.0000\n",
            "Epoch 3/5\n",
            "62/62 [==============================] - 55s 892ms/step - loss: 0.0019 - accuracy: 1.0000 - val_loss: 4.4504e-04 - val_accuracy: 1.0000\n",
            "Epoch 4/5\n",
            "62/62 [==============================] - 56s 908ms/step - loss: 0.0015 - accuracy: 1.0000 - val_loss: 3.7803e-04 - val_accuracy: 1.0000\n",
            "Epoch 5/5\n",
            "62/62 [==============================] - 55s 882ms/step - loss: 0.0010 - accuracy: 1.0000 - val_loss: 2.9354e-04 - val_accuracy: 1.0000\n"
          ]
        }
      ]
    },
    {
      "cell_type": "markdown",
      "source": [
        "#Saved the model with weights"
      ],
      "metadata": {
        "id": "9uTAtJs6PR4V"
      }
    },
    {
      "cell_type": "code",
      "source": [
        "import tensorflow\n",
        "tensorflow.keras.models.save_model(model,'/content/drive/MyDrive/GiantPlateletClassifier2.hdf5')"
      ],
      "metadata": {
        "id": "QcoMDrfE9KSW"
      },
      "execution_count": null,
      "outputs": []
    },
    {
      "cell_type": "markdown",
      "source": [
        "#Plotted Metric graphs"
      ],
      "metadata": {
        "id": "rX0OuN0cPV_2"
      }
    },
    {
      "cell_type": "code",
      "source": [
        "import matplotlib.pyplot as plt\n",
        "acc = history.history['accuracy']\n",
        "val_acc = history.history['val_accuracy']\n",
        "epochs = range(len(acc))\n",
        "\n",
        "plt.plot(epochs, acc, 'b', label='Training Accuracy')\n",
        "plt.plot(epochs, val_acc, 'r', label='Validation Accuracy')\n",
        "plt.title('Accuracy Graph')\n",
        "plt.legend()\n",
        "plt.figure()\n",
        "\n",
        "loss = history.history['loss']\n",
        "val_loss = history.history['val_loss']\n",
        "plt.plot(epochs, loss, 'b', label='Training Loss')\n",
        "plt.plot(epochs, val_loss, 'r', label='Validation Loss')\n",
        "plt.title('Loss Graph')\n",
        "plt.legend()\n",
        "plt.show()"
      ],
      "metadata": {
        "colab": {
          "base_uri": "https://localhost:8080/",
          "height": 545
        },
        "id": "L4zuZZa0xYWC",
        "outputId": "18afd49b-fce9-41f0-bf93-d066b9f37a50"
      },
      "execution_count": null,
      "outputs": [
        {
          "output_type": "display_data",
          "data": {
            "text/plain": [
              "<Figure size 432x288 with 1 Axes>"
            ],
            "image/png": "[encoded data removed]"
          },
          "metadata": {
            "needs_background": "light"
          }
        },
        {
          "output_type": "display_data",
          "data": {
            "text/plain": [
              "<Figure size 432x288 with 1 Axes>"
            ],
            "image/png": "[encoded data removed]"
          },
          "metadata": {
            "needs_background": "light"
          }
        }
      ]
    },
    {
      "cell_type": "markdown",
      "source": [
        "#Function for loading the saved model"
      ],
      "metadata": {
        "id": "d6APhh9iPa4P"
      }
    },
    {
      "cell_type": "code",
      "source": [
        "def load_model():\n",
        "  model=tf.keras.models.load_model('/content/drive/MyDrive/GiantPlateletClassifier2.hdf5')\n",
        "  return model"
      ],
      "metadata": {
        "id": "kSMwU-3u9Qfb"
      },
      "execution_count": null,
      "outputs": []
    },
    {
      "cell_type": "code",
      "source": [
        "model=load_model()"
      ],
      "metadata": {
        "id": "jeI9EX8V9TuE"
      },
      "execution_count": null,
      "outputs": []
    },
    {
      "cell_type": "code",
      "source": [
        "import numpy as np\n",
        "import glob,cv2\n",
        "arr=[]\n",
        "test_dir=r\"/content/drive/MyDrive/test\"\n",
        "for img in glob.glob(test_dir+\"/*\"):\n",
        "    images= cv2.imread(img)\n",
        "    images=cv2.resize(images, (224,224), interpolation = cv2.INTER_AREA)\n",
        "    img_pred=np.array(images)\n",
        "    img_pred=np.expand_dims(img_pred,axis=0)\n",
        "    result=model.predict(img_pred)\n",
        "    if result[0][0]>result[0][1]:\n",
        "      arr.append(1)\n",
        "    else:\n",
        "      arr.append(0)\n",
        "np_array=np.array(arr)"
      ],
      "metadata": {
        "id": "jdv4oCon0yKx"
      },
      "execution_count": null,
      "outputs": []
    },
    {
      "cell_type": "markdown",
      "source": [
        "#Creating Confusion Matrix"
      ],
      "metadata": {
        "id": "FLhdlHI3PqOU"
      }
    },
    {
      "cell_type": "code",
      "source": [
        "from sklearn.metrics import confusion_matrix, ConfusionMatrixDisplay\n",
        "from sklearn.metrics import classification_report\n",
        "cm = confusion_matrix(test_label, np_array)\n",
        "cmd = ConfusionMatrixDisplay(cm, display_labels=['Normal Platelet','Giant Platelet'])\n",
        "cmd.plot()\n",
        "print(classification_report(test_label, np_array))"
      ],
      "metadata": {
        "colab": {
          "base_uri": "https://localhost:8080/",
          "height": 435
        },
        "id": "oqo0NR5W1Zri",
        "outputId": "8dff9a0e-f19f-435e-961c-2c10d360958b"
      },
      "execution_count": null,
      "outputs": [
        {
          "output_type": "stream",
          "name": "stdout",
          "text": [
            "              precision    recall  f1-score   support\n",
            "\n",
            "           0       0.83      0.91      0.87        11\n",
            "           1       0.92      0.85      0.88        13\n",
            "\n",
            "    accuracy                           0.88        24\n",
            "   macro avg       0.88      0.88      0.87        24\n",
            "weighted avg       0.88      0.88      0.88        24\n",
            "\n"
          ]
        },
        {
          "output_type": "display_data",
          "data": {
            "text/plain": [
              "<Figure size 432x288 with 2 Axes>"
            ],
            "image/png": "[encoded data removed]"
          },
          "metadata": {
            "needs_background": "light"
          }
        }
      ]
    },
    {
      "cell_type": "code",
      "source": [
        "!pip install gradio"
      ],
      "metadata": {
        "id": "agq_HRk79d-Q"
      },
      "execution_count": null,
      "outputs": []
    },
    {
      "cell_type": "code",
      "source": [
        "from keras.preprocessing import image\n",
        "import numpy as np\n",
        "import torch\n",
        "import gradio as gr\n",
        "def classify(Image):\n",
        "  img_pred=np.array(Image)\n",
        "  img_pred=np.expand_dims(img_pred,axis=0)\n",
        "  result=model.predict(img_pred)\n",
        "  if result[0][0]>result[0][1]:\n",
        "    predic=\"Giant Platelet\"\n",
        "  else:\n",
        "    predic=\"Normal Platelet\"\n",
        "  return predic\n",
        "image=gr.inputs.Image(shape=(224,224))\n",
        "gr.Interface(fn=classify,inputs=image,outputs=\"text\",capture_session=True,title=\"GIANT PLATELET DETECTOR\",\n",
        "             theme=\"peach\",\n",
        "             css=\"body{text-align:center}body description{color:black}\").launch(debug='True')\n"
      ],
      "metadata": {
        "id": "ZoMWC4fN9h8h"
      },
      "execution_count": null,
      "outputs": []
    }
  ]
}