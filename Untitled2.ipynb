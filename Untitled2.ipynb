{
  "cells": [
    {
      "cell_type": "markdown",
      "metadata": {
        "id": "view-in-github",
        "colab_type": "text"
      },
      "source": [
        "<a href=\"https://colab.research.google.com/github/nil1997/in/blob/master/Untitled2.ipynb\" target=\"_parent\"><img src=\"https://colab.research.google.com/assets/colab-badge.svg\" alt=\"Open In Colab\"/></a>"
      ]
    },
    {
      "cell_type": "code",
      "execution_count": 1,
      "metadata": {
        "id": "fO6bzBgxO5Fc"
      },
      "outputs": [],
      "source": [
        "import tensorflow as tf\n",
        "import numpy as np\n",
        "from google.colab import drive"
      ]
    },
    {
      "cell_type": "code",
      "execution_count": 2,
      "metadata": {
        "id": "vycQ0BrcO876",
        "colab": {
          "base_uri": "https://localhost:8080/"
        },
        "outputId": "be1df60e-e011-469c-9bad-c7e1627d379b"
      },
      "outputs": [
        {
          "output_type": "stream",
          "name": "stdout",
          "text": [
            "Mounted at /content/drive\n"
          ]
        }
      ],
      "source": [
        "drive.mount('/content/drive')"
      ]
    },
    {
      "cell_type": "code",
      "execution_count": null,
      "metadata": {
        "id": "T-XPNcQlO-7d"
      },
      "outputs": [],
      "source": [
        "base_dir=r\"/content/drive/MyDrive/imageDataset\""
      ]
    },
    {
      "cell_type": "code",
      "execution_count": null,
      "metadata": {
        "id": "NIPI1ghPPCDu"
      },
      "outputs": [],
      "source": [
        "IMAGE_SIZE=224\n",
        "Batch_Size=64\n",
        "train_datagen=tf.keras.preprocessing.image.ImageDataGenerator(\n",
        "    rescale=1./255,\n",
        "    zoom_range=0.2,\n",
        "    validation_split=0.1,\n",
        ")\n",
        "\n",
        "valid_datagen=tf.keras.preprocessing.image.ImageDataGenerator(\n",
        "    rescale=1./255,\n",
        "    validation_split=0.1)\n"
      ]
    },
    {
      "cell_type": "code",
      "execution_count": null,
      "metadata": {
        "colab": {
          "base_uri": "https://localhost:8080/"
        },
        "id": "qJlAJOG-PL_P",
        "outputId": "ed45df06-b95f-40b2-9a4e-a382a1919ecd"
      },
      "outputs": [
        {
          "output_type": "stream",
          "name": "stdout",
          "text": [
            "Found 3918 images belonging to 2 classes.\n",
            "Found 434 images belonging to 2 classes.\n",
            "Found 4352 images belonging to 2 classes.\n"
          ]
        }
      ],
      "source": [
        "train_generator=train_datagen.flow_from_directory(\n",
        "    directory=base_dir,\n",
        "    target_size=(IMAGE_SIZE,IMAGE_SIZE),\n",
        "    batch_size=Batch_Size,\n",
        "    subset='training'\n",
        "  \n",
        ")\n",
        "validation_generator=valid_datagen.flow_from_directory(\n",
        "    directory=base_dir,\n",
        "    target_size=(IMAGE_SIZE,IMAGE_SIZE),\n",
        "    batch_size=Batch_Size,\n",
        "    subset='validation'\n",
        ")\n"
      ]
    },
    {
      "cell_type": "code",
      "execution_count": null,
      "metadata": {
        "id": "G8OzIvu4PMNw"
      },
      "outputs": [],
      "source": [
        "from tensorflow.keras.layers import Input,Flatten,Dense,Conv2D,MaxPool2D\n",
        "from tensorflow.keras.models import Model\n",
        "from tensorflow.keras.applications.vgg16 import VGG16\n",
        "from tensorflow.keras.models import Sequential\n",
        "from glob import glob\n",
        "from tensorflow.keras.layers import Input, Conv2D\n",
        "from tensorflow.keras.layers import MaxPool2D, Flatten, Dense\n",
        "from tensorflow.keras import Model"
      ]
    },
    {
      "cell_type": "code",
      "execution_count": null,
      "metadata": {
        "colab": {
          "base_uri": "https://localhost:8080/"
        },
        "id": "QGFXC0CfTD6C",
        "outputId": "4261061a-7299-4ae4-d979-e2485432fe14"
      },
      "outputs": [
        {
          "output_type": "stream",
          "name": "stdout",
          "text": [
            "2\n"
          ]
        }
      ],
      "source": [
        "folders=glob(r\"/content/drive/MyDrive/imageDataset/*\")\n",
        "print(len(folders))"
      ]
    },
    {
      "cell_type": "code",
      "execution_count": null,
      "metadata": {
        "id": "f_mI9oR79aJi"
      },
      "outputs": [],
      "source": [
        "from tensorflow.keras import layers\n",
        "model = Sequential([\n",
        "                    Input(shape=(224,224,3)),\n",
        "                    Conv2D (filters =64, kernel_size =3, padding ='same', activation='relu'),\n",
        "                    Conv2D (filters =64, kernel_size =3, padding ='same', activation='relu'),\n",
        "                    MaxPool2D(pool_size =2, strides =2, padding ='same'),\n",
        "                    Conv2D (filters =128, kernel_size =3, padding ='same', activation='relu'),\n",
        "                    Conv2D (filters =128, kernel_size =3, padding ='same', activation='relu'),\n",
        "                    MaxPool2D(pool_size =2, strides =2, padding ='same'),\n",
        "                    Conv2D (filters =256, kernel_size =3, padding ='same', activation='relu'),\n",
        "                    Conv2D (filters =256, kernel_size =3, padding ='same', activation='relu'),\n",
        "                    Conv2D (filters =256, kernel_size =3, padding ='same', activation='relu'),\n",
        "                    MaxPool2D(pool_size =2, strides =2, padding ='same'),\n",
        "                    Conv2D (filters =512, kernel_size =3, padding ='same', activation='relu'),\n",
        "                    Conv2D (filters =512, kernel_size =3, padding ='same', activation='relu'),\n",
        "                    Conv2D (filters =512, kernel_size =3, padding ='same', activation='relu'),\n",
        "                    MaxPool2D(pool_size =2, strides =2, padding ='same'),\n",
        "                    Conv2D (filters =512, kernel_size =3, padding ='same', activation='relu'),\n",
        "                    Conv2D (filters =512, kernel_size =3, padding ='same', activation='relu'),\n",
        "                    Conv2D (filters =512, kernel_size =3, padding ='same', activation='relu'),\n",
        "                    MaxPool2D(pool_size =2, strides =2, padding ='same')\n",
        "])"
      ]
    },
    {
      "cell_type": "code",
      "execution_count": null,
      "metadata": {
        "id": "C_hlOokRVsiG"
      },
      "outputs": [],
      "source": [
        "for layer in model.layers:\n",
        "  layer.trainable=False"
      ]
    },
    {
      "cell_type": "code",
      "source": [
        "model.add(Flatten())\n",
        "model.add(Dense(len(folders),activation='softmax'))"
      ],
      "metadata": {
        "id": "9w7s24XDvpnM"
      },
      "execution_count": null,
      "outputs": []
    },
    {
      "cell_type": "code",
      "execution_count": null,
      "metadata": {
        "colab": {
          "base_uri": "https://localhost:8080/"
        },
        "id": "vSP8YuJaQ0uC",
        "outputId": "7c223799-7763-4928-b927-6bf52f13d155"
      },
      "outputs": [
        {
          "output_type": "stream",
          "name": "stdout",
          "text": [
            "Model: \"sequential\"\n",
            "_________________________________________________________________\n",
            " Layer (type)                Output Shape              Param #   \n",
            "=================================================================\n",
            " conv2d (Conv2D)             (None, 224, 224, 64)      1792      \n",
            "                                                                 \n",
            " conv2d_1 (Conv2D)           (None, 224, 224, 64)      36928     \n",
            "                                                                 \n",
            " max_pooling2d (MaxPooling2D  (None, 112, 112, 64)     0         \n",
            " )                                                               \n",
            "                                                                 \n",
            " conv2d_2 (Conv2D)           (None, 112, 112, 128)     73856     \n",
            "                                                                 \n",
            " conv2d_3 (Conv2D)           (None, 112, 112, 128)     147584    \n",
            "                                                                 \n",
            " max_pooling2d_1 (MaxPooling  (None, 56, 56, 128)      0         \n",
            " 2D)                                                             \n",
            "                                                                 \n",
            " conv2d_4 (Conv2D)           (None, 56, 56, 256)       295168    \n",
            "                                                                 \n",
            " conv2d_5 (Conv2D)           (None, 56, 56, 256)       590080    \n",
            "                                                                 \n",
            " conv2d_6 (Conv2D)           (None, 56, 56, 256)       590080    \n",
            "                                                                 \n",
            " max_pooling2d_2 (MaxPooling  (None, 28, 28, 256)      0         \n",
            " 2D)                                                             \n",
            "                                                                 \n",
            " conv2d_7 (Conv2D)           (None, 28, 28, 512)       1180160   \n",
            "                                                                 \n",
            " conv2d_8 (Conv2D)           (None, 28, 28, 512)       2359808   \n",
            "                                                                 \n",
            " conv2d_9 (Conv2D)           (None, 28, 28, 512)       2359808   \n",
            "                                                                 \n",
            " max_pooling2d_3 (MaxPooling  (None, 14, 14, 512)      0         \n",
            " 2D)                                                             \n",
            "                                                                 \n",
            " conv2d_10 (Conv2D)          (None, 14, 14, 512)       2359808   \n",
            "                                                                 \n",
            " conv2d_11 (Conv2D)          (None, 14, 14, 512)       2359808   \n",
            "                                                                 \n",
            " conv2d_12 (Conv2D)          (None, 14, 14, 512)       2359808   \n",
            "                                                                 \n",
            " max_pooling2d_4 (MaxPooling  (None, 7, 7, 512)        0         \n",
            " 2D)                                                             \n",
            "                                                                 \n",
            " flatten (Flatten)           (None, 25088)             0         \n",
            "                                                                 \n",
            " dense (Dense)               (None, 2)                 50178     \n",
            "                                                                 \n",
            "=================================================================\n",
            "Total params: 14,764,866\n",
            "Trainable params: 50,178\n",
            "Non-trainable params: 14,714,688\n",
            "_________________________________________________________________\n"
          ]
        }
      ],
      "source": [
        "model.summary()"
      ]
    },
    {
      "cell_type": "code",
      "execution_count": null,
      "metadata": {
        "id": "TjzruUWdRHuA"
      },
      "outputs": [],
      "source": [
        "model.compile(loss='binary_crossentropy',optimizer='adam',metrics='accuracy')\n"
      ]
    },
    {
      "cell_type": "code",
      "execution_count": null,
      "metadata": {
        "colab": {
          "base_uri": "https://localhost:8080/"
        },
        "id": "w-fcM5JNRMKp",
        "outputId": "8984bf8b-96d4-4e41-c6c3-fe8c9e831dcd"
      },
      "outputs": [
        {
          "output_type": "stream",
          "name": "stdout",
          "text": [
            "Epoch 1/25\n",
            "62/62 [==============================] - 545s 9s/step - loss: 0.6883 - accuracy: 0.5472 - val_loss: 0.6845 - val_accuracy: 0.5392\n",
            "Epoch 2/25\n",
            "62/62 [==============================] - 55s 880ms/step - loss: 0.6809 - accuracy: 0.5431 - val_loss: 0.6770 - val_accuracy: 0.5392\n",
            "Epoch 3/25\n",
            "62/62 [==============================] - 55s 878ms/step - loss: 0.6735 - accuracy: 0.6603 - val_loss: 0.6702 - val_accuracy: 0.5392\n",
            "Epoch 4/25\n",
            "62/62 [==============================] - 55s 877ms/step - loss: 0.6661 - accuracy: 0.5656 - val_loss: 0.6625 - val_accuracy: 1.0000\n",
            "Epoch 5/25\n",
            "62/62 [==============================] - 55s 878ms/step - loss: 0.6594 - accuracy: 0.7407 - val_loss: 0.6551 - val_accuracy: 0.5392\n",
            "Epoch 6/25\n",
            "62/62 [==============================] - 55s 892ms/step - loss: 0.6520 - accuracy: 0.7915 - val_loss: 0.6485 - val_accuracy: 0.5392\n",
            "Epoch 7/25\n",
            "62/62 [==============================] - 54s 876ms/step - loss: 0.6450 - accuracy: 0.6899 - val_loss: 0.6411 - val_accuracy: 1.0000\n",
            "Epoch 8/25\n",
            "62/62 [==============================] - 55s 883ms/step - loss: 0.6384 - accuracy: 0.9074 - val_loss: 0.6341 - val_accuracy: 1.0000\n",
            "Epoch 9/25\n",
            "62/62 [==============================] - 55s 876ms/step - loss: 0.6318 - accuracy: 0.8984 - val_loss: 0.6274 - val_accuracy: 0.9931\n",
            "Epoch 10/25\n",
            "62/62 [==============================] - 55s 880ms/step - loss: 0.6249 - accuracy: 0.8629 - val_loss: 0.6206 - val_accuracy: 1.0000\n",
            "Epoch 11/25\n",
            "62/62 [==============================] - 55s 883ms/step - loss: 0.6182 - accuracy: 0.8492 - val_loss: 0.6142 - val_accuracy: 1.0000\n",
            "Epoch 12/25\n",
            "62/62 [==============================] - 55s 878ms/step - loss: 0.6117 - accuracy: 0.9602 - val_loss: 0.6078 - val_accuracy: 0.9977\n",
            "Epoch 13/25\n",
            "62/62 [==============================] - 54s 874ms/step - loss: 0.6057 - accuracy: 0.8622 - val_loss: 0.6010 - val_accuracy: 1.0000\n",
            "Epoch 14/25\n",
            "62/62 [==============================] - 55s 881ms/step - loss: 0.5994 - accuracy: 0.9347 - val_loss: 0.5947 - val_accuracy: 1.0000\n",
            "Epoch 15/25\n",
            "62/62 [==============================] - 55s 880ms/step - loss: 0.5930 - accuracy: 0.9150 - val_loss: 0.5885 - val_accuracy: 1.0000\n",
            "Epoch 16/25\n",
            "62/62 [==============================] - 55s 876ms/step - loss: 0.5872 - accuracy: 0.9640 - val_loss: 0.5825 - val_accuracy: 1.0000\n",
            "Epoch 17/25\n",
            "62/62 [==============================] - 55s 890ms/step - loss: 0.5811 - accuracy: 0.9193 - val_loss: 0.5764 - val_accuracy: 1.0000\n",
            "Epoch 18/25\n",
            "62/62 [==============================] - 55s 879ms/step - loss: 0.5750 - accuracy: 0.9758 - val_loss: 0.5702 - val_accuracy: 1.0000\n",
            "Epoch 19/25\n",
            "62/62 [==============================] - 55s 878ms/step - loss: 0.5692 - accuracy: 0.9607 - val_loss: 0.5643 - val_accuracy: 1.0000\n",
            "Epoch 20/25\n",
            "62/62 [==============================] - 54s 875ms/step - loss: 0.5637 - accuracy: 0.9569 - val_loss: 0.5585 - val_accuracy: 1.0000\n",
            "Epoch 21/25\n",
            "62/62 [==============================] - 55s 887ms/step - loss: 0.5577 - accuracy: 0.9609 - val_loss: 0.5524 - val_accuracy: 1.0000\n",
            "Epoch 22/25\n",
            "62/62 [==============================] - 55s 882ms/step - loss: 0.5522 - accuracy: 0.9803 - val_loss: 0.5466 - val_accuracy: 1.0000\n",
            "Epoch 23/25\n",
            "62/62 [==============================] - 55s 881ms/step - loss: 0.5467 - accuracy: 0.9602 - val_loss: 0.5409 - val_accuracy: 1.0000\n",
            "Epoch 24/25\n",
            "62/62 [==============================] - 55s 892ms/step - loss: 0.5410 - accuracy: 0.9737 - val_loss: 0.5353 - val_accuracy: 1.0000\n",
            "Epoch 25/25\n",
            "62/62 [==============================] - 55s 885ms/step - loss: 0.5358 - accuracy: 0.9826 - val_loss: 0.5295 - val_accuracy: 1.0000\n"
          ]
        }
      ],
      "source": [
        "epoch=25\n",
        "history=model.fit(train_generator,\n",
        "                  steps_per_epoch=len(train_generator),\n",
        "                  epochs=epoch,\n",
        "                  validation_data=validation_generator,\n",
        "                  validation_steps=len(validation_generator))"
      ]
    },
    {
      "cell_type": "code",
      "execution_count": null,
      "metadata": {
        "id": "vUnxo8_tRYtc"
      },
      "outputs": [],
      "source": [
        "import tensorflow\n",
        "tensorflow.keras.models.save_model(model,'/content/drive/MyDrive/GiantPlateletClassifier1.hdf5')"
      ]
    },
    {
      "cell_type": "code",
      "source": [
        "import matplotlib.pyplot as plt\n",
        "acc = history.history['accuracy']\n",
        "val_acc = history.history['val_accuracy']\n",
        "epochs = range(len(acc))\n",
        "\n",
        "plt.plot(epochs, acc, 'b', label='Training Accuracy')\n",
        "plt.plot(epochs, val_acc, 'r', label='Validation Accuracy')\n",
        "plt.title('Accuracy Graph')\n",
        "plt.legend()\n",
        "plt.figure()\n",
        "\n",
        "loss = history.history['loss']\n",
        "val_loss = history.history['val_loss']\n",
        "plt.plot(epochs, loss, 'b', label='Training Loss')\n",
        "plt.plot(epochs, val_loss, 'r', label='Validation Loss')\n",
        "plt.title('Loss Graph')\n",
        "plt.legend()\n",
        "plt.show()"
      ],
      "metadata": {
        "colab": {
          "base_uri": "https://localhost:8080/",
          "height": 545
        },
        "id": "tTiKfk8r6M_m",
        "outputId": "f6fb9318-deca-40d8-ab33-15490a827483"
      },
      "execution_count": null,
      "outputs": [
        {
          "output_type": "display_data",
          "data": {
            "text/plain": [
              "<Figure size 432x288 with 1 Axes>"
            ],
            "image/png": "[encoded data removed]"
          },
          "metadata": {
            "needs_background": "light"
          }
        },
        {
          "output_type": "display_data",
          "data": {
            "text/plain": [
              "<Figure size 432x288 with 1 Axes>"
            ],
            "image/png": "[encoded data removed]"
          },
          "metadata": {
            "needs_background": "light"
          }
        }
      ]
    },
    {
      "cell_type": "code",
      "source": [
        "def load_model():\n",
        "  model=tf.keras.models.load_model('/content/drive/MyDrive/GiantPlateletClassifier1.hdf5')\n",
        "  return model"
      ],
      "metadata": {
        "id": "dJkWFzr1IEPd"
      },
      "execution_count": 3,
      "outputs": []
    },
    {
      "cell_type": "code",
      "source": [
        "model=load_model()"
      ],
      "metadata": {
        "id": "N-wGKoUhICPG"
      },
      "execution_count": 4,
      "outputs": []
    },
    {
      "cell_type": "code",
      "source": [
        "!pip install gradio"
      ],
      "metadata": {
        "id": "sKAiZ3MG9jxr"
      },
      "execution_count": null,
      "outputs": []
    },
    {
      "cell_type": "code",
      "source": [
        "from keras.preprocessing import image\n",
        "import numpy as np\n",
        "import torch\n",
        "import gradio as gr\n",
        "def classify(Image):\n",
        "  img_pred=np.array(Image)\n",
        "  img_pred=np.expand_dims(img_pred,axis=0)\n",
        "  result=model.predict(img_pred)\n",
        "  if result[0][0]>result[0][1]:\n",
        "    predic=\"Giant Platelet\"\n",
        "  else:\n",
        "    predic=\"Normal Platelet\"\n",
        "  return predic\n",
        "image=gr.inputs.Image(shape=(224,224))\n",
        "gr.Interface(fn=classify,inputs=image,outputs=\"text\",capture_session=True,title=\"GIANT PLATELET PREDICTER\",\n",
        "             theme=\"peach\",\n",
        "             css=\"body{text-align:center}body description{color:black}\").launch(debug='True')\n"
      ],
      "metadata": {
        "colab": {
          "base_uri": "https://localhost:8080/",
          "height": 626
        },
        "id": "lZWGjdYL9jUE",
        "outputId": "38a766f9-c647-4041-e3e2-924eaa869056"
      },
      "execution_count": null,
      "outputs": [
        {
          "output_type": "stream",
          "name": "stderr",
          "text": [
            "/usr/local/lib/python3.7/dist-packages/gradio/interface.py:248: UserWarning: The `capture_session` parameter in the `Interface` is deprecated and may be removed in the future.\n",
            "  \"The `capture_session` parameter in the `Interface`\"\n"
          ]
        },
        {
          "output_type": "stream",
          "name": "stdout",
          "text": [
            "Colab notebook detected. This cell will run indefinitely so that you can see errors and logs. To turn off, set debug=False in launch().\n",
            "Running on public URL: https://47246.gradio.app\n",
            "\n",
            "This share link expires in 72 hours. For free permanent hosting, check out Spaces (https://huggingface.co/spaces)\n"
          ]
        },
        {
          "output_type": "display_data",
          "data": {
            "text/plain": [
              "<IPython.lib.display.IFrame at 0x7f927cbc87d0>"
            ],
            "text/html": [
              "\n",
              "        <iframe\n",
              "            width=\"900\"\n",
              "            height=\"500\"\n",
              "            src=\"https://47246.gradio.app\"\n",
              "            frameborder=\"0\"\n",
              "            allowfullscreen\n",
              "        ></iframe>\n",
              "        "
            ]
          },
          "metadata": {}
        }
      ]
    }
  ],
  "metadata": {
    "colab": {
      "name": "Untitled2.ipynb",
      "provenance": [],
      "collapsed_sections": [],
      "authorship_tag": "ABX9TyPOY9zJndcW7N7262ZT4/uI",
      "include_colab_link": true
    },
    "kernelspec": {
      "display_name": "Python 3",
      "name": "python3"
    },
    "language_info": {
      "name": "python"
    },
    "accelerator": "GPU"
  },
  "nbformat": 4,
  "nbformat_minor": 0
}